{
 "cells": [
  {
   "cell_type": "markdown",
   "metadata": {},
   "source": [
    "Problem 1 : You want to preprocess data for use in a neural network."
   ]
  },
  {
   "cell_type": "markdown",
   "metadata": {
    "collapsed": true
   },
   "source": [
    "Solution :  Standardize each feature using scikit-learn’s StandardScaler:"
   ]
  },
  {
   "cell_type": "code",
   "execution_count": 2,
   "metadata": {
    "collapsed": true
   },
   "outputs": [],
   "source": [
    "# Load libraries \n",
    "from sklearn import preprocessing \n",
    "import numpy as np\n"
   ]
  },
  {
   "cell_type": "code",
   "execution_count": null,
   "metadata": {},
   "outputs": [],
   "source": [
    "# Create feature \n",
    "features = np.array([[-100.1, 3240.1],\n",
    "                     [-200.2, -234.1],\n",
    "                     [5000.5, 150.1],\n",
    "                     [6000.6, -125.1],\n",
    "                     [9000.9, -673.1]])\n"
   ]
  },
  {
   "cell_type": "code",
   "execution_count": null,
   "metadata": {
    "collapsed": true
   },
   "outputs": [],
   "source": [
    "# Create Scalar\n",
    "scaler = preprocessing.StandardScaler()"
   ]
  },
  {
   "cell_type": "code",
   "execution_count": null,
   "metadata": {
    "collapsed": true
   },
   "outputs": [],
   "source": [
    "# Transform the feature \n",
    "features_standardized = scaler.fit_transform(features)\n"
   ]
  },
  {
   "cell_type": "code",
   "execution_count": null,
   "metadata": {
    "collapsed": true
   },
   "outputs": [],
   "source": [
    "# Show feature \n",
    "features_standardized\n"
   ]
  },
  {
   "cell_type": "markdown",
   "metadata": {},
   "source": [
    "# Discussion  on Mean and Standard Deviation"
   ]
  },
  {
   "cell_type": "raw",
   "metadata": {},
   "source": [
    "Typically, a neural network’s parameters are initialized (i.e., created) as small random numbers. \n",
    "Neural networks often behave poorly when the feature values are much larger than parameter values. Furthermore, since an observation’s feature values are combined as they pass through individual units, it is important that all features have the same scale. \n",
    "For these reasons, it is best practice (although not always necessary; for example, when we have all binary features) to standardize each feature such that the feature’s values have the mean of 0 and the standard deviation of 1. \n",
    "This can be easily accomplished with scikit-learn’s StandardScaler. "
   ]
  },
  {
   "cell_type": "code",
   "execution_count": 8,
   "metadata": {},
   "outputs": [
    {
     "name": "stdout",
     "output_type": "stream",
     "text": [
      "Mean: 0.0\n",
      "\"Standard deviation:\" 0.9999999999999999\n"
     ]
    }
   ],
   "source": [
    "# Print mean and standard deviation \n",
    "print(\"Mean:\", round(features_standardized[:,0].mean())) \n",
    "print('\"Standard deviation:\"', features_standardized[:,0].std())\n"
   ]
  },
  {
   "cell_type": "markdown",
   "metadata": {},
   "source": [
    "Combining All above steps here :"
   ]
  },
  {
   "cell_type": "code",
   "execution_count": 9,
   "metadata": {},
   "outputs": [
    {
     "name": "stdout",
     "output_type": "stream",
     "text": [
      "array [[-1.12541308  1.96429418]\n",
      " [-1.15329466 -0.50068741]\n",
      " [ 0.29529406 -0.22809346]\n",
      " [ 0.57385917 -0.42335076]\n",
      " [ 1.40955451 -0.81216255]]\n",
      "\n",
      "Mean: 0.0\n",
      "Standard deviation: 0.9999999999999999\n"
     ]
    }
   ],
   "source": [
    "# Load libraries \n",
    "from sklearn import preprocessing \n",
    "import numpy as np\n",
    "\n",
    "# Create feature \n",
    "features = np.array([[-100.1, 3240.1],\n",
    "                     [-200.2, -234.1],\n",
    "                     [5000.5, 150.1],\n",
    "                     [6000.6, -125.1],\n",
    "                     [9000.9, -673.1]])\n",
    "# Create Scalar\n",
    "scaler = preprocessing.StandardScaler()\n",
    "# Transform the feature \n",
    "features_standardized = scaler.fit_transform(features)\n",
    "# Show feature \n",
    "print('array',features_standardized)\n",
    "# Print mean and standard deviation \n",
    "print(\"\\nMean:\", round(features_standardized[:,0].mean())) \n",
    "print('Standard deviation:', features_standardized[:,0].std())"
   ]
  },
  {
   "cell_type": "code",
   "execution_count": null,
   "metadata": {},
   "outputs": [],
   "source": []
  }
 ],
 "metadata": {
  "kernelspec": {
   "display_name": "Python 3",
   "language": "python",
   "name": "python3"
  },
  "language_info": {
   "codemirror_mode": {
    "name": "ipython",
    "version": 3
   },
   "file_extension": ".py",
   "mimetype": "text/x-python",
   "name": "python",
   "nbconvert_exporter": "python",
   "pygments_lexer": "ipython3",
   "version": "3.6.5"
  }
 },
 "nbformat": 4,
 "nbformat_minor": 2
}
